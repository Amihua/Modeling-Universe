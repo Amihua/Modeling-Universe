{
 "cells": [
  {
   "cell_type": "markdown",
   "metadata": {},
   "source": [
    "# 假设检验\n"
   ]
  },
  {
   "cell_type": "markdown",
   "metadata": {},
   "source": [
    "# 0. 漫谈假设检验"
   ]
  },
  {
   "cell_type": "markdown",
   "metadata": {},
   "source": [
    "假设检验是统计分析中重要的一环，它贯穿着统计分析的所有环节。在数学建模中，我们既能通过假设检验对数据进行探索性的信息挖掘，以给予我们选择模型充分且客观的依据；又能在建模完成后，通过特定的假设检验验证模型的有效性。因此，储备基本的假设检验知识，学会根据数据特点、任务需求选择相对应的假设检验十分重要。\n",
    "\n",
    "不同于回归分析等这类成体系、结构性强的统计分析任务，假设检验是一个极其分散且不成体系的任务，每一个领域都有其可使用的假设检验。例如，回归分析中有模型系数的显著性检验，时间序列分析中有单位根检验、白噪声检验等等。\n",
    "\n",
    "虽然种类繁多且不成体系，但这并不意味着我们不能系统地学习假设检验。当前假设检验主要分为两类：基于统计模型的假设检验与不基于统计模型的假设检验。前者基于一个已知的统计模型，并为模型的使用“提供服务”，我们前面提到的线性回归模型的系数显著性检验就是一个典型，对于这种假设检验，我推荐大家先学习对应的统计模型，再学习里面的假设检验。后者则是“直接从数据出发”，直接检验数据的某些性质，比如正态性检验、双样本t检验、方差分析等等。而本次课程的学习对象正是这种不基于统计模型的假设检验。\n",
    "\n",
    "或许大家在学习概率论与统计分析、多元统计分析等课程的时候，总是觉得自己学习了非常多的假设检验，但是却缺乏系统的归纳，导致自己并不清楚对于怎样的数据、怎样的需求来选择对应的假设检验。本次假设检验课程将为大家系统地归纳常见的不基于统计模型的假设检验，并教会大家在何种情形下使用何种假设检验。"
   ]
  },
  {
   "cell_type": "markdown",
   "metadata": {},
   "source": [
    "# 1. 认识假设检验"
   ]
  },
  {
   "cell_type": "markdown",
   "metadata": {},
   "source": [
    "## 1.1 假设检验的原理"
   ]
  },
  {
   "cell_type": "markdown",
   "metadata": {},
   "source": [
    "### 1.1.1 假设检验的本质——它在研究什么？"
   ]
  },
  {
   "cell_type": "markdown",
   "metadata": {},
   "source": [
    "为了便于大家理解，我们用一个例子开始对这个话题的讨论。\n",
    "\n",
    "**· Example.1** 必胜中学初三年级在三天前开展了一次数学考试，校长给级长下达了命令：全级均分必须不低于110，否则就要扣级长工资。今天考试成绩出来了，但是由于年级人数太多，完成全级考试情况的统计还需要两天的时间。急性子的级长很想早点知道这次考试的情况，万幸的是一班已经完成了成绩统计，**级长便想以一班的成绩，推测出全级的考试情况**。已知：一班的成绩均值$\\bar{x}=108.2$，样本标准差$s=4$，人数$n=25$，且根据以往的经验，年级的考试成绩呈现正态分布。那么，级长可以认为年级均分不低于110吗？\n",
    "\n",
    "现在简单分析一下问题。我们将整个年级的数学成绩作为一个总体，在这个前提下，可以将一班的数学成绩视作在这个总体中抽取出的一个样本。级长想知道的是一班这个样本的均值是否达到110吗？显然不是，因为样本均值$\\bar{x}=108.2$是已知的；级长想知道的是，能否通过一班这个样本推测出年级这一**总体**的均值**是否**达到110。\n",
    "\n",
    "换言之，我们需要对“年级总体均分不低于110”这样的命题做出“是”或“否”的回答，这类问题就被称之为假设检验问题。对假设检验问题进行数理上的检验并给予回答，这个过程就是假设检验。\n",
    "\n",
    "总结一下：这种根据样本信息与已知信息，对一个描述**总体**性质的命题进行“是或否”的检验与回答，就是假设检验的本质。即：假设检验验证的不是样本本身的性质，而是**样本所在总体的性质**。\n",
    "\n",
    "假设检验大体上可分为两种：参数假设检验与非参数假设检验。若假设是关于总体的一个参数或者参数的集合，则该假设检验就是参数假设检验，Example.1的假设是关于总体均值的，均值是参数，因此这是一个参数假设检验；若假设不能用一个参数集合来表示，则该假设检验就是非参数假设检验，一个典型就是正态性检验。"
   ]
  },
  {
   "cell_type": "markdown",
   "metadata": {},
   "source": [
    "### 1.1.2 假设检验的推导"
   ]
  },
  {
   "cell_type": "markdown",
   "metadata": {},
   "source": [
    "**· 假设的建立**"
   ]
  },
  {
   "cell_type": "markdown",
   "metadata": {},
   "source": [
    "我们用数学语言描述example.1：\n",
    "\n",
    "必胜中学初三年级学生的数学成绩$X$服从正态分布$X\\sim N\\left( \\mu ,\\sigma ^2 \\right) $，抽取一班学生成绩做样本，已知样本均值$\\bar{x}=108.2$，样本标准差$s=4$，一班人数$n=25$，能否认为总体均值$\\mu > 110$？\n",
    "\n",
    "命题“总体均值$\\mu > 110$”是否正确涉及如下两个假设问题：\n",
    "$$\n",
    "H_0:\\mu \\leqslant 110\\leftrightarrow H_1:\\mu >110\\,\n",
    "$$\n",
    "$H_0$被称为原假设，$H_1$被称为备择假设，两个假设必须为互斥关系，因为只有这样，拒绝假设$H_0$才等价于接受假设$H_1$，命题成立的探讨就转化为了拒绝原假设$H_0$的探讨。\n",
    "\n",
    "注意到，在前面的解释中我特别强调了对**拒绝原假设**的探讨，而不是把注意力放在接受备择假设上，这是因为在数学上我们不能通过一个特殊的样本证明一个假设成立，但是却可以用其推翻（拒绝）一个命题。因此，假设检验本质上就是在探讨如何通过拒绝原假设$H_0$来接受备择假设$H_1$。\n",
    "\n",
    "回到Example.1，我们很难直接证明命题$\\mu > 110$是成立的，但是却可以通过证明假设$\\mu \\leqslant 110$错误间接地验证$\\mu > 110$的成立性。正因如此，在实际的假设检验中，**我们通常将我们想要验证的命题作为备择假设$H_1$**，通过检验原假设$H_0$是否被拒绝来判断是否接受$H_1$。\n"
   ]
  },
  {
   "cell_type": "markdown",
   "metadata": {},
   "source": [
    "**· 单参数检验的三种类型与原假设的注意事项**\n",
    "\n",
    "尽管我们通常将想要验证的命题作为备择假设$H_1$，但这并不是一个“准则”——有一些假设检验的原/备择假设的设置是固定的，如在检验某个样本所在的总体是否服从某个特定的分布时（如正态性检验），我们通常会如下设置两个假设\n",
    "$$\n",
    "H_0:\\text{样本所在总体服从某分布}\\leftrightarrow H_1:\\,\\text{样本所在总体不服从某分布}\n",
    "$$\n",
    "又例如，在最常见的单参数检验中，“=”只会出现在原假设$H_0$中，而不会出现在备择假设$H_1$中，即我们不会做诸如\n",
    "$$\n",
    "H_0:\\mu \\ne 110\\leftrightarrow H_1:\\mu =110\\,\n",
    "$$\n",
    "的假设。原/备择假设的设置在初学的时候可能会觉得有些许玄学，不过随着学习的深入，大家很快就能领悟到其中的奥妙。在这里，我们介绍一下最常见的三种单参数检验问题，以均值检验为例：\n",
    "$$\n",
    "H_0:\\mu \\leqslant \\mu _0\\leftrightarrow H_1:\\mu >\\mu _0\n",
    "\\\\\n",
    "H_0:\\mu \\geqslant \\mu _0\\leftrightarrow H_1:\\mu <\\mu _0\n",
    "\\\\\n",
    "H_0:\\mu =\\mu _0\\leftrightarrow H_1:\\mu \\ne \\mu _0\\,\n",
    "$$\n",
    "其中，前面两种检验被称为单边检验，第三种检验为双边检验。事实上，以上三个问题的原假设还有另一种更常见的表达方式：\n",
    "$$\n",
    "H_0:\\mu = \\mu _0\\leftrightarrow H_1:\\mu >\\mu _0\n",
    "\\\\\n",
    "H_0:\\mu = \\mu _0\\leftrightarrow H_1:\\mu <\\mu _0\n",
    "\\\\\n",
    "H_0:\\mu =\\mu _0\\leftrightarrow H_1:\\mu \\ne \\mu _0\\,\n",
    "$$\n",
    "有同学可能会疑问了，为什么原假设全都设置为“=”号呢？其实理由很简单，我们以第一个检验问题为例：如果我们接受了$H_1$，意味着$\\mu$因为显著地大于$\\mu_0$而拒绝等于$\\mu_0$的假设，而如果连等于$\\mu_0$的假设都接受不了，小于$\\mu_0$就更不用提了。因此，尽管这种写法两者并不互斥，但其在结果上与前面的写法是等效的。在往后的参数检验中，我们将统一将原假设的符号设置为“=”，区分不同检验问题只需看备择假设$H_1$即可！\n",
    "\n",
    "\n"
   ]
  },
  {
   "cell_type": "markdown",
   "metadata": {},
   "source": [
    "**· 临界值、拒绝域、显著性水平**"
   ]
  },
  {
   "cell_type": "markdown",
   "metadata": {},
   "source": [
    "明白了上面的内容后，我们便可以探讨拒绝原假设的规则了。\n",
    "\n",
    "在Example.1中，在概率论与数理统计中我们知道，样本均值$\\bar{x}$是总体均值$\\mu$的无偏估计，那么如果拒绝原假设，即实际有$\\mu > 110$，那么$\\bar{x}$有很大可能性大于110，这意味着如果**实际样本**计算出来的$\\bar{x}$远远大于110，那么原假设**有很大可能不成立**。为了给出一个拒绝原假设的标准，**我们设立一个临界值$C$**，若实际样本计算出来的$\\bar{x}$满足$\\bar{x}-110>C$，我们就拒绝原假设。\n",
    "\n",
    "其中，$\\bar{x}-110>C$也叫拒绝域，它可以被写成：\n",
    "\n",
    "$$\n",
    "\\left\\{ \\bar{x}\\,\\,: \\bar{x}>110+C \\right\\} \n",
    "$$\n",
    "一旦样本计算的结果落入拒绝域，我们就拒绝原假设；否则，则不能拒绝原假设。不同假设检验的拒绝域不尽相同，但核心的逻辑是完全相同的。\n",
    "\n",
    "接下来的问题是，我们如何确定临界值$C$呢？用概率去确定。\n",
    "\n",
    "由于抽样具有随机性，因此凭借样本的信息去判断总体的性质总是会有犯错的概率——即不论我们是否拒绝原假设$H_0$，我们都**有概率**犯以下两类错误的其中一种：\n",
    "\n",
    "· 第一类错误：原假设$H_0$为真，但是数据却落入了拒绝域（因此做出拒绝$H_0$的判断)。犯第一类错误的概率被称为拒真概率$\\alpha$\n",
    "\n",
    "· 第二类错误：原假设$H_0$为假，但是数据却没有落入拒绝域（因此做出接受$H_0$的判断)。犯第二类错误的概率被称为受伪概率$\\beta$\n",
    "\n",
    "两种犯错概率相互对立，彼此“矛盾”。在样本量给定的条件下，如果我们想通过对假设检验规则的调整以降低某一类错误概率，必然会导致另一类错误概率的上升。这意味着我们不可能控制它们使其同时保持在一个较低的水准，基于此，我们只能采取折中方案——通常的做法是只限制犯第一类错误的概率$\\alpha$。\n",
    "\n",
    "了解了这个，我们再回到临界值的确定问题。在定夺临界值的时候，我们要保证发生第一类错误的概率$\\alpha$需要在一个给定的、较小的水平(通常取$\\alpha=0.05/0.1$)，此时$\\alpha$又被称为显著性水平。如此以来，我们确定临界值$C$的标准是：原假设$H_0$为真，但是数据却落入拒绝域的概率应当恰好为给定的$\\alpha$。在Example.1中，这个概率可以写为：\n",
    "$$\n",
    "P_{H_0\\,\\,is\\,\\,true}\\left( \\bar{x}-\\mu _0>C \\right) =P\\left( \\bar{x}-110>C \\right) =\\alpha \n",
    "$$"
   ]
  },
  {
   "cell_type": "markdown",
   "metadata": {},
   "source": [
    "**· 用分布处理概率——构造检验统计量**"
   ]
  },
  {
   "cell_type": "markdown",
   "metadata": {},
   "source": [
    "接下来我们开始处理$P\\left( \\bar{x}-110>C \\right)$。\n",
    "\n",
    "大家观察一下这个概率的形式，是不是很像我们在概统学习中接触的分布的“分位数”呢？没错，我们接下来就是要将其构造成某个分布的分位数形式，这样就可以计算出临界值$C$了。\n",
    "\n",
    "注意到，在本例中110实际上是$\\mu$在原假设$H_0$正确下的值，而$E\\left( \\bar{x} \\right) =\\mu $，因此概率实际为：\n",
    "$$\n",
    "P\\left( \\bar{x}-E\\left( \\bar{x} \\right) >C \\right) \\,\\,, E\\left( \\bar{x} \\right) =\\mu _0=110\n",
    "$$\n",
    "由于$\\bar{x}$服从正态分布，且在Example.1中$s$已知，我们便可以构造t统计量了：\n",
    "$$\n",
    "\\,\\,P\\left( \\bar{x}-E\\left( \\bar{x} \\right) >C \\right) =P\\left( \\frac{\\bar{x}-E\\left( \\bar{x} \\right)}{s}>\\frac{C}{s} \\right) =\\alpha \\,\\,,\\frac{\\bar{x}-E\\left( \\bar{x} \\right)}{s}\\sim t_{n-1}\n",
    "$$\n",
    "这意味着，$\\frac{C}{s}$恰好就是$t_{n-1}\\left( 1-\\alpha \\right) $分位点，而对于一个确定的分布而言，分位点是已知的，因此$C$就被求解出来了\n",
    "$$\n",
    "C=s\\cdot t_{n-1}\\left( 1-\\alpha \\right) \n",
    "$$\n",
    "我们将其代入到上述式子中即有\n",
    "$$\n",
    "P\\left( \\frac{\\bar{x}-E\\left( \\bar{x} \\right)}{s}>\\frac{C}{s} \\right) =P\\left( \\frac{\\bar{x}-\\mu _0}{s}>\\frac{s\\cdot t_{n-1}\\left( 1-\\alpha \\right)}{s} \\right) =P\\left( \\bar{x}>\\mu _0+s\\cdot t_{n-1}\\left( 1-\\alpha \\right) \\right) =\\alpha \n",
    "$$\n",
    "即：只要$\\bar{x}>110+s\\cdot t_{n-1}\\left( 1-\\alpha \\right) $，我们就可以**在显著性水平$\\alpha$下拒绝原假设**。\n",
    "\n",
    "在上面的过程，我们用**已知的**统计量构造了一个服从某个特定分布的统计量，帮助我们进行概率的计算，而这个构造出来的统计量，就是**检验统计量**。不同检验统计量的形式不尽相同，其所服从的分布也不相同，但是假设检验的思路却是有共同之处的：构造检验统计量——输出对应分布的分位点——计算临界值（拒绝域）——做出判断。\n",
    "\n",
    "在上述例子中，检验统计量为\n",
    "$$\n",
    "t=\\frac{\\bar{x}-\\mu _0}{s}\n",
    "$$\n",
    "对应t分布的分位点为\n",
    "$$\n",
    "t_{n-1}\\left( 1-\\alpha \\right) \n",
    "$$\n",
    "拒绝域为\n",
    "$$\n",
    "\\bar{x}>110+s\\cdot t_{n-1}\\left( 1-\\alpha \\right)\n",
    "$$\n",
    "接下来，我们用python手动实现上述假设检验过程。\n"
   ]
  },
  {
   "cell_type": "code",
   "execution_count": 1,
   "metadata": {},
   "outputs": [
    {
     "name": "stdout",
     "output_type": "stream",
     "text": [
      "t值为：-1.7999999999999972\n",
      "分位点为：1.7108820799094282\n",
      "拒绝域的临界点为：116.84352831963771\n",
      "样本均值是否位于拒绝域：False\n",
      "因此，不能拒绝原假设，不能认为总体均值大于110.\n"
     ]
    }
   ],
   "source": [
    "## 加载包\n",
    "import numpy as np\n",
    "import pandas as pd\n",
    "from scipy.stats import t\n",
    "\n",
    "n=25 \n",
    "x_bar=108.2\n",
    "s=4\n",
    "mu=110\n",
    "\n",
    "# 计算检验统计量\n",
    "tvalue=(x_bar-mu)\n",
    "print('t值为：{}'.format(tvalue))\n",
    "\n",
    "# 输出分位点\n",
    "'''\n",
    "ppf:单侧左分位点\n",
    "isf:单侧右分位点\n",
    "interval:双侧分位点\n",
    "'''\n",
    "T_isf=t.isf(0.05,n-1) #由于备择假设是大于号，因此应当选用单侧右分位点，0.05为显著性水平a，n-1为自由度\n",
    "# 如果备择假设是小于号，则应选用单侧左分位点ppf，里面的参数设置不变，依次为显著性水平a与分布自由度\n",
    "\n",
    "print('分位点为：{}'.format(T_isf))\n",
    "# 拒绝域\n",
    "Deny_domain=110+s*T_isf\n",
    "print('拒绝域的临界点为：{}'.format(Deny_domain))\n",
    "\n",
    "# 判断\n",
    "print('样本均值是否位于拒绝域：{}'.format(x_bar>Deny_domain))\n",
    "print('因此，不能拒绝原假设，不能认为总体均值大于110.')\n"
   ]
  },
  {
   "cell_type": "markdown",
   "metadata": {},
   "source": [
    "当然，拒绝域还可以直接用检验统计量与对应的分布分位点表示\n",
    "$$\n",
    "t>t_{n-1}\\left( 1-\\alpha \\right) \n",
    "$$\n",
    "这样更方便，也更普适，因为不用再花时间计算临界值$C$。三种假设检验的拒绝域（以正态分布为例）如下图所示\n",
    "<img src=\"./images/拒绝域.png\">\n",
    "可以看到，三种假设的分位点分别对应右侧分位点、左侧分位点、双侧分位点。在实际应用中我们便可以根据备择假设$H_1$的符号，选择对应分位点构造拒绝域。"
   ]
  },
  {
   "cell_type": "code",
   "execution_count": 2,
   "metadata": {},
   "outputs": [
    {
     "name": "stdout",
     "output_type": "stream",
     "text": [
      "检验统计量是否位于拒绝域：False\n"
     ]
    }
   ],
   "source": [
    "# 直接用检验统计量与分布分位点判断\n",
    "print('检验统计量是否位于拒绝域：{}'.format(tvalue>T_isf))"
   ]
  },
  {
   "cell_type": "markdown",
   "metadata": {},
   "source": [
    "假设利用Example.1中的数据进行双边检验\n",
    "$$\n",
    "H_0:\\mu =110\\leftrightarrow H_1:\\mu \\ne 110\\,\n",
    "$$\n",
    "则拒绝域为\n",
    "$$\n",
    "\\left| t \\right|>\\left| t_{n-1}\\left( 1-\\frac{\\alpha}{2} \\right) \\right|\n",
    "$$"
   ]
  },
  {
   "cell_type": "code",
   "execution_count": 3,
   "metadata": {},
   "outputs": [
    {
     "name": "stdout",
     "output_type": "stream",
     "text": [
      "检验统计量t的绝对值：1.7999999999999972\n",
      "双侧分位点：(-2.0638985616280205, 2.0638985616280205)\n",
      "显然，检验统计量不在拒绝域内，因此无法拒绝原假设\n"
     ]
    }
   ],
   "source": [
    "# 进行双边检验\n",
    "## 计算双侧分位点\n",
    "T_int=t.interval(1-0.05,n-1) # 对于双侧检验（双侧分位点），分位点参数应该输入1-a，这里是1-0.05=0.95\n",
    "print('检验统计量t的绝对值：{}'.format(np.abs(tvalue)))\n",
    "print('双侧分位点：{}'.format(T_int))\n",
    "print('显然，检验统计量不在拒绝域内，因此无法拒绝原假设')"
   ]
  },
  {
   "cell_type": "markdown",
   "metadata": {},
   "source": [
    "**· p值**"
   ]
  },
  {
   "cell_type": "markdown",
   "metadata": {},
   "source": [
    "采用拒绝域的方法进行假设检验有一个缺点：就是分位点值与显著性水平$\\alpha$是相关的。如果我们要在不同的显著水平下检验，就需要计算不同的分位点再比较，这样很繁琐。有没有一种方法，只要**样本信息**与**假设**确定下来，就可以凭借一个不变的指标来判断是否拒绝原假设呢？有的！它就是p值。\n",
    "\n",
    "**p值是在确定的样本观测值下，给出的能拒绝原假设的最小显著性水平**，它只与样本观测值和我们做的假设检验有关。p值越小越可以拒绝原假设，例如：如果p值为0.001，比0.01的置信水平还要小，我们认为在0.01的置信水平下我们也可以拒绝原假设；而如果p值为0.025，比0.01的置信水平要大，但小于0.05，则我们认为在0.05的置信水平下我们可以拒绝原假设，但在0.01置信水平下不可以拒绝。\n",
    "\n",
    "p值的形式与我们做的备择假设$H_1$有关：\n",
    "\n",
    "· 若$H_{1}$的符号为$\\ne $，则：$pvalue=P\\left( \\left| X \\right|>\\left| Test\\,\\,statistics \\right| \\right) $\n",
    "\n",
    "· 若$H_{1}$的符号为>，则：$pvalue=P\\left( X>Test\\,\\,statistics \\right) $\n",
    "\n",
    "· 若$H_{1}$的符号为<，则：$pvalue=P\\left( X<Test\\,\\,statistics \\right) $\n",
    "\n",
    "其中，X为服从某个特定分布的变量，Test statistics为前面提到的检验统计量。可以看到，p值本质上是一种累积概率，对于符号为>的备择假设，p值则是右侧累积概率；对于符号为<的备择假设，p值则是左侧累积概率；而对于相同的检验统计量Test statistics而言，双边检验的p值为某类单边检验的两倍。"
   ]
  },
  {
   "cell_type": "code",
   "execution_count": 4,
   "metadata": {},
   "outputs": [
    {
     "name": "stdout",
     "output_type": "stream",
     "text": [
      "备择假设为mu>110的p值为：0.9577775745385242\n",
      "备择假设为mu<110的p值为：0.042222425461475775\n",
      "备择假设为mu不等于110的p值为：0.08444485092295155\n"
     ]
    }
   ],
   "source": [
    "# 利用example.1的数据进行三种假设检验\n",
    "# 利用p值进行假设检验\n",
    "'''\n",
    "sf:右尾累积概率\n",
    "cdf:左尾累积概率\n",
    "'''\n",
    "# 若备择假设为mu>110\n",
    "pvalue=t.sf(tvalue,n-1) \n",
    "print('备择假设为mu>110的p值为：{}'.format(pvalue))\n",
    "\n",
    "# 若备择假设为mu<110\n",
    "pvalue=t.cdf(tvalue,n-1)\n",
    "print('备择假设为mu<110的p值为：{}'.format(pvalue))\n",
    "\n",
    "# 若备择假设为mu不等于110\n",
    "pvalue=t.cdf(tvalue,n-1)*2 # 之所以是左尾累积概率的两倍，是因为右尾累积概率大于0.5，而p值不可能大于1。\n",
    "print('备择假设为mu不等于110的p值为：{}'.format(pvalue))"
   ]
  },
  {
   "cell_type": "markdown",
   "metadata": {},
   "source": [
    "使用p值进行假设检验在实际应用中更常见，python中进行假设检验的所有包都会输出检验统计量与p值，因此在后续的学习当中，我们统一使用p值进行假设检验。"
   ]
  },
  {
   "cell_type": "markdown",
   "metadata": {},
   "source": [
    "### 1.1.3 假设检验的基本步骤——基于p值"
   ]
  },
  {
   "cell_type": "markdown",
   "metadata": {},
   "source": [
    "尽管python的scipy.stats模块含有很多可直接使用的各类假设检验api，但是相比于专门进行统计分析的SPSS与R，python的假设检验功能相对较少。如果某种假设检验python没有其对应的api，我们就需要手动计算p值了。例如后续有关均值向量的Hotelling T2检验，我们就需要自己手动实现。\n",
    "\n",
    "在这里，我们总结一下基于p值的假设检验基本步骤，在后续的假设检验实操中，我们将基本按照这套“方法论”进行操作。\n",
    "\n",
    "1. 确定备择假设$H_1$，备择假设的符号决定了我们使用何种累积概率。\n",
    "2. 明确检验统计量Test statistics的公式，不同假设检验都有其确定的检验统计量，查阅资料找到它！\n",
    "3. 明确检验统计量所服从的分布，这样我们才能计算累积概率。\n",
    "4. 根据备择假设$H_1$与检验统计量Test statistics计算p值。\n",
    "5. 将p值与显著性水平$\\alpha$比较，若$p>\\alpha$，则不能拒绝原假设；若$p<\\alpha$，则可以拒绝原假设。"
   ]
  },
  {
   "cell_type": "markdown",
   "metadata": {},
   "source": [
    "## 1.2 假设检验的分类"
   ]
  },
  {
   "cell_type": "markdown",
   "metadata": {},
   "source": [
    "在本次课程中，我将常见的假设检验，按照数据类型、数据特征进行分类，大家在实际应用中可以直接根据待分析数据的特征以及分析任务选择相应的假设检验。对于一些较为常见且重要的假设检验（如各种t检验），我们将简要学习其原理；对于不常见且原理解释较为困难的检验（如正态性检验），我们只需要学习如何使用即可。\n",
    "\n",
    "具体分类如下所示\n",
    "<img src=\"./images/总框架.png\">\n"
   ]
  },
  {
   "cell_type": "code",
   "execution_count": 5,
   "metadata": {},
   "outputs": [],
   "source": [
    "# 加载必要的包\n",
    "import numpy as np\n",
    "import pandas as pd\n",
    "from scipy import stats\n",
    "import matplotlib.pyplot as plt\n",
    "from IPython.display import display"
   ]
  },
  {
   "cell_type": "markdown",
   "metadata": {},
   "source": [
    "# 数值型数据"
   ]
  },
  {
   "cell_type": "markdown",
   "metadata": {},
   "source": [
    "数值型数据是生活中最常见的数据类型，一个班级中每个人的考试成绩，股市中每一支股票的价格等，这些都是非常常见的数值型数据。当我们想研究某单个变量的性质时，所使用的数据便是一元数值数据；而如果想同时研究多个变量，所使用的数据便是多元数值数据。"
   ]
  },
  {
   "cell_type": "markdown",
   "metadata": {},
   "source": [
    "# 2. 一元数值数据的假设检验"
   ]
  },
  {
   "cell_type": "markdown",
   "metadata": {},
   "source": [
    "本章节覆盖了一元数值数据中的**组间均值**假设检验的内容，我们主要学习如何通过样本数据对其所在总体的**均值**的性质进行检验，并展示如何在python中实现每个检验。主要内容有：\n",
    "\n",
    "1. 正态性检验\n",
    "2. 比较一组数据的总体均值与一个固定值是否相等的检验\n",
    "3. 比较两组数据的总体均值之间是否相等的检验\n",
    "4. 比较两组以上的多组数据的总体均值之间是否相等的检验\n",
    "\n",
    "在2~4的检验中，又可以分为两种情况。如果数据大致符合正态分布，那么可以使用参数检验-t检验，它比非参数检验更灵敏，但需要满足正态假设；如果数据不是正态分布的，那么可以使用一些非参数检验。"
   ]
  },
  {
   "cell_type": "markdown",
   "metadata": {},
   "source": [
    "## 2.1 正态性检验"
   ]
  },
  {
   "cell_type": "markdown",
   "metadata": {},
   "source": [
    "由于参数检验比非参数检验更灵敏，因此一旦数据是正态分布的，我们应该使用参数检验，此时对数据进行正态性检验就非常有必要了。\n",
    "\n",
    "在这里，我们提供了三种方法对帮助大家判断数据的正态性：可视化判断-正态分布概率图；Shapiro-Wilk检验；D'Agostino's K-squared检验"
   ]
  },
  {
   "cell_type": "markdown",
   "metadata": {},
   "source": [
    "### 2.1.1 概率图"
   ]
  },
  {
   "cell_type": "markdown",
   "metadata": {},
   "source": [
    "在统计学中，与许多工具用于视觉评估分布，概率图就是其中之一。\n",
    "\n",
    "概率图的逻辑非常简单。对于一个给定的样本数据集，概率图会先将数据$x$进行从小到大的排序，并计算排序后数据$x$对应的分布分位数；随后，以分位数为横轴，以有序样本值为纵轴，将数据点绘制在一个二维图中。如果数据大致服从目标分布，则数据点会近似地沿着线$y=x$分布，如果数据不服从目标分布，我们将会观察到数据点偏离线$y=x$。\n",
    "\n",
    "接下来我们使用python演示一波。"
   ]
  },
  {
   "cell_type": "code",
   "execution_count": 6,
   "metadata": {},
   "outputs": [
    {
     "data": {
      "image/png": "[encoded data removed]",
      "text/plain": [
       "<Figure size 864x432 with 2 Axes>"
      ]
     },
     "metadata": {
      "needs_background": "light"
     },
     "output_type": "display_data"
    }
   ],
   "source": [
    "# 生成1000个服从正态分布的数据\n",
    "data_norm = stats.norm.rvs(loc=10, scale=10, size=1000) # rvs(loc,scale,size):生成服从指定分布的随机数，loc：期望；scale：标准差；size：数据个数\n",
    "# 生成1000个服从卡方分布的数据\n",
    "data_chi=stats.chi2.rvs(2,3,size=1000)\n",
    "\n",
    "# 画出两个概率图\n",
    "fig=plt.figure(figsize=(12,6))\n",
    "ax1=fig.add_subplot(1,2,1)\n",
    "plot1=stats.probplot(data_norm,plot=ax1) # 正态数据\n",
    "ax2=fig.add_subplot(1,2,2)\n",
    "plot2=stats.probplot(data_chi,plot=ax2) # 卡方分布数据\n"
   ]
  },
  {
   "cell_type": "markdown",
   "metadata": {},
   "source": [
    "可以看到，正态性数据在正态分布概率图中十分接近直线$y=x$，而卡方分布数据则几乎完全偏离了该直线。可见，概率图可视化确实可以起到初步判断数据正态性的作用。"
   ]
  },
  {
   "cell_type": "markdown",
   "metadata": {},
   "source": [
    "### 2.1.2 两种正态性检验"
   ]
  },
  {
   "cell_type": "markdown",
   "metadata": {},
   "source": [
    "概率图只能粗略地判断数据是否具有正态性，但这并不精准。为了较为准确地判断样本所在总体是否为正态分布，我们需要进行严格的正态性检验。\n",
    "\n",
    "正态性检验的两个假设如下：\n",
    "$$\n",
    "H_0:\\text{样本所在总体服从正态分布}\\leftrightarrow H_1:\\,\\text{样本所在总体不服从正态分布}\n",
    "$$\n",
    "正态性检验的种类非常多，在这里我只列举两种最常用、最强大的假设检验——小样本下使用Shapiro-Wilk检验；大样本下使用D'Agostino's K-squared检验。"
   ]
  },
  {
   "cell_type": "markdown",
   "metadata": {},
   "source": [
    "**· Shapiro-Wilk检验——小样本正态性检验**"
   ]
  },
  {
   "cell_type": "markdown",
   "metadata": {},
   "source": [
    "Shapiro–Wilk test是正态性检验最为有效的方法之一，是一种在频率统计中检验正态性的方法，其理论原理较为复杂，在这里不作过多介绍。\n",
    "\n",
    "该方法适用小样本的正态性检验问题，这是因为：**该检验在每一个样本值都是唯一时的检验效果最好**，而一旦样本过多，难免会存在几个样本值重复的情况，这会使该方法的效用大打折扣。\n",
    "\n",
    "样本量适用范围：样本量不得小于8，小于50最佳，小于2000效果较好，超过5000后不再适用。"
   ]
  },
  {
   "cell_type": "markdown",
   "metadata": {},
   "source": [
    "**· D'Agostino's K-squared test——大样本正态性检验**"
   ]
  },
  {
   "cell_type": "markdown",
   "metadata": {},
   "source": [
    "D'Agostino's K-squared test主要通过计算偏度（Skewness）和峰度（Kurtosis）来量化数据分布曲线与标准正态分布曲线之间的差异与不对称性，然后计算这些值与正态分布期望值的之间的不同程度。\n",
    "\n",
    "该方法是一种常用且强大的正态性检验方法，适用于大样本情况。这是因为分布曲线的偏度和峰度容易受到数据量的影响，数据量越大，偏度与峰度的计算就越准确。\n",
    "\n",
    "样本量适用范围：样本量不得小于4，除此以外越大越好。"
   ]
  },
  {
   "cell_type": "markdown",
   "metadata": {},
   "source": [
    "### 2.1.3 同时使用多种方法判断正态性"
   ]
  },
  {
   "cell_type": "markdown",
   "metadata": {},
   "source": [
    "实际应用中，由于数据的复杂性，仅使用一种方法判断正态性有可能产生一定的误差，因此我们通常同时使用多种方法进行判断。如果不同方法得出的结论不同，此时就需要仔细观察数据的特征，寻找结果不一致的原因。如：若Shapiro-Wilk test显著（非正态），D'Agostino's K-squared test不显著（正态），则有可能是因为样本量较大，或者样本中存在重复值现象，如果事实确实如此，那么我们就应该采纳D'Agostino's K-squared test的结论而非Shapiro-Wilk test的结论。\n",
    "\n",
    "接下来，我们在python中定义一个函数，将概率图、Shapiro-Wilk test、D'Agostino's K-squared test结合在一起。"
   ]
  },
  {
   "cell_type": "code",
   "execution_count": 7,
   "metadata": {},
   "outputs": [],
   "source": [
    "data_small = stats.norm.rvs(0, 1, size=30) # 小样本正态性数据集\n",
    "data_large = stats.norm.rvs(0, 1, size=6000) # 大样本正态性数据集"
   ]
  },
  {
   "cell_type": "code",
   "execution_count": 8,
   "metadata": {},
   "outputs": [],
   "source": [
    "# 定义一个正态性检验函数，它可以输出：\n",
    "## 正态概率图\n",
    "## 小样本Shapiro-Wilk检验的p值\n",
    "## 大样本D'Agostino's K-squared检验的p值\n",
    "\n",
    "from statsmodels.stats.diagnostic import lilliefors\n",
    "from typing import List\n",
    "\n",
    "def check_normality(data: np.ndarray, show_flag: bool=True) -> List[float]:\n",
    "    \"\"\"\n",
    "    输入参数\n",
    "    ----------\n",
    "    data : numpy数组或者pandas.Series\n",
    "    show_flag : 是否显示概率图\n",
    "    Returns\n",
    "    -------\n",
    "    两种检验的p值；概率图\n",
    "    \"\"\"\n",
    "\n",
    "    if show_flag:\n",
    "        _ = stats.probplot(data, plot=plt)\n",
    "        plt.show()\n",
    "\n",
    "    pVals = pd.Series(dtype='float64')\n",
    "    # D'Agostino's K-squared test\n",
    "    _, pVals['Omnibus'] = stats.normaltest(data) \n",
    "\n",
    "    # Shapiro-Wilk test\n",
    "    _, pVals['Shapiro-Wilk'] = stats.shapiro(data)\n",
    "\n",
    "    print(f'数据量为{len(data)}的数据集正态性假设检验的结果 : ----------------')\n",
    "    print(pVals)\n"
   ]
  },
  {
   "cell_type": "code",
   "execution_count": 9,
   "metadata": {},
   "outputs": [
    {
     "data": {
      "image/png": "[encoded data removed]",
      "text/plain": [
       "<Figure size 432x288 with 1 Axes>"
      ]
     },
     "metadata": {
      "needs_background": "light"
     },
     "output_type": "display_data"
    },
    {
     "name": "stdout",
     "output_type": "stream",
     "text": [
      "数据量为30的数据集正态性假设检验的结果 : ----------------\n",
      "Omnibus         0.481008\n",
      "Shapiro-Wilk    0.157423\n",
      "dtype: float64\n"
     ]
    }
   ],
   "source": [
    "check_normality(data_small,show_flag=True)"
   ]
  },
  {
   "cell_type": "code",
   "execution_count": 10,
   "metadata": {},
   "outputs": [
    {
     "name": "stdout",
     "output_type": "stream",
     "text": [
      "数据量为6000的数据集正态性假设检验的结果 : ----------------\n",
      "Omnibus         0.832535\n",
      "Shapiro-Wilk    0.275553\n",
      "dtype: float64\n"
     ]
    },
    {
     "name": "stderr",
     "output_type": "stream",
     "text": [
      "e:\\anaconda\\envs\\ml\\lib\\site-packages\\scipy\\stats\\morestats.py:1760: UserWarning: p-value may not be accurate for N > 5000.\n",
      "  warnings.warn(\"p-value may not be accurate for N > 5000.\")\n"
     ]
    }
   ],
   "source": [
    "check_normality(data_large,show_flag=False) # 当样本量大于5000，会出现警告"
   ]
  },
  {
   "cell_type": "markdown",
   "metadata": {},
   "source": [
    "## 2.2 均值检验"
   ]
  },
  {
   "cell_type": "markdown",
   "metadata": {},
   "source": [
    "接下来开始正式进行一元数值样本的总体均值的检验，每种均值检验都会有相应的参数检验（t检验）与非参数检验供大家选择。"
   ]
  },
  {
   "cell_type": "markdown",
   "metadata": {},
   "source": [
    "### 2.2.1 单组样本均值假定的检验"
   ]
  },
  {
   "cell_type": "markdown",
   "metadata": {},
   "source": [
    "**· 应用场景**"
   ]
  },
  {
   "cell_type": "markdown",
   "metadata": {},
   "source": [
    "检验**一个样本**所在总体的均值是否和**一个参考值**相等，这就是单组样本均值假定的检验。\n",
    "\n",
    "Example.1的检验问题实际上就是这种检验（不过备择假设需要换成$\\ne$），为了让大家有更好的理解，我们重新举一个例子。\n",
    "\n",
    "**Example.2** 必胜中学里，陈老师班结束了一次英语考试。由于班级人数较多，短时间内很难完成批改与统计，王老师又很想知道此次班级平均分与级长定的班级均分137的目标是否有显著区别，于是他随机抽取了已经改好的10名同学的英语成绩：\n",
    "\n",
    "136,136,134,136,131,133,142,145,137,140\n",
    "\n",
    "问：王老师可以认为此次班级平均分与级长定的班级均分137的目标没有显著区别吗？\n",
    "\n",
    "很明显，这就是一个典型的单组样本均值假定的检验，比较的是这个样本（10个同学的英语成绩）所代表的总体均值（班级英语成绩均值）是否与参考值137相等。那么对于这类问题，我们有两种检验可以使用：单样本t检验与wilcoxon检验。"
   ]
  },
  {
   "cell_type": "markdown",
   "metadata": {},
   "source": [
    "**· 单样本t检验(One Sample t-test)**\n",
    "\n",
    "t检验要求总体服从正态分布，即有\n",
    "$$\n",
    "x\\sim N\\left( \\mu ,\\sigma ^2 \\right) \n",
    "$$\n",
    "在Example.2中，这意味着要求王老师班级中每一位同学的英语成绩都服从正态分布。在t检验中，总体的标准差$\\sigma$是不需要事先知道的，这与概率论与数理统计中的z检验不一样，因此t检验在实际应用中更广泛。\n",
    "\n",
    "接下来，我们介绍一下使用p值进行假设检验的基本流程。（按照1.1.3）\n",
    "\n",
    "单样本t检验的两个假设为：\n",
    "$$\n",
    "H_0:\\mu =\\mu_0\\leftrightarrow H_1:\\mu \\ne \\mu_0\\,\n",
    "$$\n",
    "对应的检验统计量为：\n",
    "$$\n",
    "Test\\,\\,statistics=\\frac{\\bar{x}-\\mu _0}{s}\n",
    "$$\n",
    "检验统计量服从的分布为：\n",
    "$$\n",
    "Test\\,\\,statistics\\sim t_{n-1}\n",
    "$$\n",
    "其中，$n$为样本量。我们可以根据以上信息计算p值，当然，python中有可以直接使用的api，我们将在后面介绍。"
   ]
  },
  {
   "cell_type": "markdown",
   "metadata": {},
   "source": [
    "**· wilcoxon符号秩和检验**\n",
    "\n",
    "若样本数据非正态，我们应当使用wilcoxon符号秩和检验。该检验是非常经典的非参数检验，考虑到部分同学可能对非参数检验比较陌生，我们简单介绍一下该检验的原理。\n",
    "\n",
    "首先介绍什么是“秩”。设$x_1,\\cdots ,x_n$为来自连续分布的简单随机样本，我们将它们进行从小到大排序，得到有序样本$x_{\\left( 1 \\right)}\\leqslant \\cdots \\leqslant x_{\\left( n \\right)}$。观测值$x_i$在有序样本中的序号$r$被称为$x_i$的秩。所以，秩其实就是样本值$x_i$在所有样本中“第几小”的意思。\n",
    "\n",
    "秩和检验，那肯定得有“秩的和”。设$x_1,\\cdots ,x_n$为样本，对它们做绝对值变换，然后记$R_i$为$|x_i|$在$\\left( |x_1|,\\cdots ,|x_n| \\right)$的秩。记\n",
    "$$\n",
    "I\\left(x_{i}>0\\right)=\\left\\{\\begin{array}{ll}\n",
    "1, & x_{i}>0 \\\\\n",
    "0, & x_{i} \\neq 0\n",
    "\\end{array}\\right.\n",
    "$$\n",
    "则称\n",
    "$$\n",
    "W^{+}=\\sum_{i=1}^{n} R_{i} I\\left(x_{i}>0\\right)\n",
    "$$\n",
    "为秩和统计量。\n",
    "\n",
    "明白了上面的概念，接下来我们进行wilcoxon符号秩和检验步骤的讲解。\n",
    "\n",
    "单样本均值比较的wilcoxon符号秩和检验的两个假设依旧为\n",
    "$$\n",
    "H_0:\\mu =\\mu_0\\leftrightarrow H_1:\\mu \\ne \\mu_0\\,\n",
    "$$\n",
    "对于待分析样本$x_1,\\cdots ,x_n$，让所有样本减去对比值$\\mu_0$，得：$x_1-\\mu_0,\\cdots ,x_n-\\mu_0$，计算出它们的秩和统计量$W^{+}$。\n",
    "\n",
    "然后，检验统计量便可以计算为\n",
    "$$\n",
    "Test\\,\\,statistics=\\frac{W^{+}-\\frac{n(n+1)}{4}}{\\sqrt{\\frac{n(n+1)(2 n+1)}{24}}}\n",
    "$$\n",
    "检验统计量近似服从分布\n",
    "$$\n",
    "Test\\,\\,statistics\\rightarrow N\\left( 0,1 \\right) \n",
    "$$\n",
    "其中，$n$为样本量。\n",
    "\n",
    "最后，p值的计算与备择假设$H_1$的符号有关，这一点与t检验相同。当然，python中有可以直接使用的api，我们将在后面介绍。\n",
    "\n",
    "该方法最好在样本量大于25的情况下使用，因为这样检验统计量才近似服从正态分布。当然，Example.2中样本量为10，严格来说并不适合，不过不用太在意，大家只需要在实操中注意这点即可。\n"
   ]
  },
  {
   "cell_type": "code",
   "execution_count": 11,
   "metadata": {},
   "outputs": [
    {
     "data": {
      "text/plain": [
       "array([136, 136, 134, 136, 131, 133, 142, 145, 137, 140])"
      ]
     },
     "execution_count": 11,
     "metadata": {},
     "output_type": "execute_result"
    }
   ],
   "source": [
    "data=np.array([136,136,134,136,131,133,142,145,137,140])\n",
    "data"
   ]
  },
  {
   "cell_type": "code",
   "execution_count": 12,
   "metadata": {},
   "outputs": [],
   "source": [
    "# 定义一个单组样本均值检验函数，使它可以同时输出t检验与wilcoxon符号秩和检验的p值\n",
    "def check_mean(data,checkvalue,confidence=0.05,alternative='two-sided'):        \n",
    "    '''\n",
    "    输入参数\n",
    "    ----------\n",
    "    data : numpy数组或者pandas.Series\n",
    "    checkvalue : 想要比较的均值\n",
    "    confidence : 显著性水平\n",
    "    alternative : 检验类型，这取决于我们备择假设的符号:two-sided为双侧检验、greater为右侧检验、less为左侧检验\n",
    "\n",
    "    输出\n",
    "    -------\n",
    "    在两种检验下的p值\n",
    "    在显著性水平下是否拒绝原假设\n",
    "    '''\n",
    "    pVal=pd.Series(dtype='float64')\n",
    "    # 正态性数据检验-t检验\n",
    "    _, pVal['t-test'] = stats.ttest_1samp(data, checkvalue,alternative=alternative)\n",
    "    print('t-test------------------------')\n",
    "    if pVal['t-test'] < confidence:\n",
    "      print(('目标值{0:4.2f}在显著性水平{1:}下不等于样本均值(p={2:5.3f}).'.format(checkvalue,confidence,pVal['t-test'])))\n",
    "    else:\n",
    "      print(('目标值{0:4.2f}在显著性水平{1:}下无法拒绝等于样本均值的假设.(p={2:5.3f})'.format(checkvalue,confidence,pVal['t-test'])))\n",
    "\n",
    "    # 非正态性数据检验-wilcoxon检验\n",
    "    _, pVal['wilcoxon'] = stats.wilcoxon(data-checkvalue,alternative=alternative)\n",
    "    print('wilcoxon------------------------')    \n",
    "    if pVal['wilcoxon'] < confidence:\n",
    "      print(('目标值{0:4.2f}在显著性水平{1:}下不等于样本均值(p={2:5.3f}).'.format(checkvalue,confidence,pVal['wilcoxon'])))\n",
    "    else:\n",
    "      print(('目标值{0:4.2f}在显著性水平{1:}下无法拒绝等于样本均值的假设.(p={2:5.3f})'.format(checkvalue,confidence,pVal['wilcoxon'])))\n",
    "    \n",
    "    return pVal"
   ]
  },
  {
   "cell_type": "code",
   "execution_count": 13,
   "metadata": {},
   "outputs": [
    {
     "name": "stdout",
     "output_type": "stream",
     "text": [
      "t-test------------------------\n",
      "目标值137.00在显著性水平0.05下无法拒绝等于样本均值的假设.(p=1.000)\n",
      "wilcoxon------------------------\n",
      "目标值137.00在显著性水平0.05下无法拒绝等于样本均值的假设.(p=0.812)\n"
     ]
    },
    {
     "name": "stderr",
     "output_type": "stream",
     "text": [
      "e:\\anaconda\\envs\\ml\\lib\\site-packages\\scipy\\stats\\morestats.py:3141: UserWarning: Exact p-value calculation does not work if there are ties. Switching to normal approximation.\n",
      "  warnings.warn(\"Exact p-value calculation does not work if there are \"\n",
      "e:\\anaconda\\envs\\ml\\lib\\site-packages\\scipy\\stats\\morestats.py:3155: UserWarning: Sample size too small for normal approximation.\n",
      "  warnings.warn(\"Sample size too small for normal approximation.\")\n"
     ]
    },
    {
     "data": {
      "text/plain": [
       "t-test      1.000000\n",
       "wilcoxon    0.811892\n",
       "dtype: float64"
      ]
     },
     "execution_count": 13,
     "metadata": {},
     "output_type": "execute_result"
    }
   ],
   "source": [
    "check_mean(data,137,0.05)"
   ]
  },
  {
   "cell_type": "markdown",
   "metadata": {},
   "source": [
    "不论是t检验还是wilcoxon检验，p值都相当大，显然我们无法拒绝原假设，王老师可以认为班级均分为137。"
   ]
  },
  {
   "cell_type": "markdown",
   "metadata": {},
   "source": [
    "### 2.2.2 两组样本的均值相等性检验"
   ]
  },
  {
   "cell_type": "markdown",
   "metadata": {},
   "source": [
    "在进行两组之间的均值比较之前，我们需要进行一个重要的判断：这两组样本之间是否独立呢？这个问题的答案将决定着我们使用何种类型的检验。"
   ]
  },
  {
   "cell_type": "markdown",
   "metadata": {},
   "source": [
    "#### 组别间独立"
   ]
  },
  {
   "cell_type": "markdown",
   "metadata": {},
   "source": [
    "为了让大家对这里的“独立”有较好的了解，我们看看下面的例子。\n",
    "\n",
    "**Example.3** 陈老师在年级有一个竞争对手：王老师。王老师在他们班级在同一时间也举行了一次英语考试，且两个班用的是同一份卷子，因此两个班的英语成绩就具有比较的意义了。和陈老师一样，王老师也来不及批改和统计他们班级的英语成绩，不过他手头上也有12份已经改好的试卷，成绩分别为：\n",
    "\n",
    "134,136,135,145,147,140,142,137,139,140,141,135\n",
    "\n",
    "问：我们可以认为两个班级的均分是相等的吗？\n",
    "\n",
    "这是一个非常典型的双独立样本的均值检验。值得注意的是，这里的独立指的是抽样意义上的独立，而不是统计意义的独立，什么意思呢？即我们只需要保证这两个样本在选取的时候是“现实上”的互不影响就可以了。**至于两者在数值上是否独立（通过独立性检验判断的独立性）我们并不关心**。对于抽样意义上的独立的解释，各种教材众说纷纭，在这里我们选取一种容易理解的说法：两个样本中，一个样本中的受试不能影响另一个样本中的受试。\n",
    "\n",
    "在本例中，两个班级的授课老师不同，因此两个班学生的英语学习不会受到同一个老师的影响；两个班级考试同时进行，意味着不存在时间差让先考完的同学给后考完的同学通风报信（进而影响受试）。因此，我们可以认为这是两个独立的样本。\n",
    "\n",
    "事实上，两个样本是否在抽样意义上独立，是没有固定答案的，因为在很多情况下，我们既不能保证两个样本间完全独立，也很难判断出两者是否存在相关性。我们只能在抽样的时候使用更加科学的抽样方法，尽可能地避免样本间的相互影响。"
   ]
  },
  {
   "cell_type": "markdown",
   "metadata": {},
   "source": [
    "**· 双样本t检验(Two Sample t-test)**\n",
    "\n",
    "若两个样本的总体都服从正态分布，那么我们可以使用双样本t检验。双样本t检验有两个小分类——总体的标准差$\\sigma$相等以及两种不相等，这两种情况下的检验统计量不相同，服从的t分布的自由度也不相同。\n",
    "\n",
    "两种检验的假设问题是相同的：\n",
    "$$\n",
    "H_0:\\mu _x=\\mu _y\\leftrightarrow H_1:\\mu _x\\ne \\mu _y\\,\n",
    "$$\n",
    "若两个样本的总体方差相等，则\n",
    "\n",
    "检验统计量为\n",
    "$$\n",
    "Test\\,\\,statistics=\\frac{\\bar{x}-\\bar{y}}{s_w\\sqrt{\\frac{1}{m}+\\frac{1}{n}}}\\,\\,, s_w=\\sqrt{\\frac{1}{m+n-2}\\left[ \\sum_{i=1}^m{\\left( x_i-\\bar{x} \\right) ^2+\\sum_{i=1}^n{\\left( y_i-\\bar{y} \\right) ^2}} \\right]}\n",
    "$$\n",
    "检验统计量服从分布\n",
    "$$\n",
    "Test\\,\\,statistics\\sim t_{n+m-2}\n",
    "$$\n",
    "其中，$m$为样本$x$的样本量，$n$为样本$y$的样本量。\n",
    "\n",
    "若两个样本的总体方差不相等，则\n",
    "\n",
    "检验统计量为\n",
    "$$\n",
    "Test\\,\\,statistics=\\frac{\\bar{x}-\\bar{y}}{\\sqrt{\\frac{s_{x}^{2}}{m}+\\frac{s_{y}^{2}}{n}}}\\,\n",
    "$$\n",
    "检验统计量近似服从分布\n",
    "$$\n",
    "Test\\,\\,statistics\\rightarrow t_l\\,\\,, l=\\frac{\\left( \\frac{s_{x}^{2}}{m}+\\frac{s_{y}^{2}}{n} \\right) ^2}{\\frac{s_{x}^{2}}{m^2\\left( m-1 \\right)}+\\frac{s_{y}^{2}}{n^2\\left( n-1 \\right)}}\n",
    "$$\n",
    "由于在大多数情况下，总体的信息是很难知晓的，即我们很难知道两个总体的标准差是否相等，不过没有关系，我们可以使用方差齐性检验levene检验进行判断。\n"
   ]
  },
  {
   "cell_type": "markdown",
   "metadata": {},
   "source": [
    "**· Mannwhitneyu秩和检验**\n"
   ]
  },
  {
   "cell_type": "markdown",
   "metadata": {},
   "source": [
    "Mannwhitneyu秩和检验也是一种非参数检验。它的做法是，首先将两类样本混合在一起，对所有样本按照所考察的特征从小到大排序。在两类样本中分别计算所得排序序号之和$T_1$和$T_2$，我们将之称作秩和。Mannwhitneyu秩和检验的基本思想是，如果一类样本的秩和显著地比另一类小（或大），则两类样本在所考察的特征上有显著差异。\n",
    "\n",
    "值得注意的是，秩和检验与符号秩和检验是不一样的：前者不考虑符号的问题，而后者考虑符号问题。"
   ]
  },
  {
   "cell_type": "code",
   "execution_count": 14,
   "metadata": {},
   "outputs": [],
   "source": [
    "# 定义一个单组样本均值检验函数，使它可以同时输出t检验与mannwhitneyu检验的p值\n",
    "def unpaired_data(group1:np.ndarray,group2:np.ndarray,confidence=0.05,alternative='two-sided'):\n",
    "    \"\"\" \n",
    "    输入参数\n",
    "    ----------\n",
    "    group1/2 : 用于比较的两组数据\n",
    "    confidence : 显著性水平\n",
    "    alternative : 检验类型，这取决于我们备择假设的符号:two-sided为双侧检验、greater为右侧检验、less为左侧检验\n",
    "    输出\n",
    "    -------\n",
    "    在两种检验下的p值\n",
    "    在显著性水平下是否拒绝原假设\n",
    "    \"\"\"\n",
    "    pVal=pd.Series(dtype='float64')\n",
    "\n",
    "    # 先进行两组数据的方差齐性检验\n",
    "    _,pVal['levene']=stats.levene(group1,group2)\n",
    "\n",
    "\n",
    "    # t检验-若数据服从正态分布\n",
    "    if pVal['levene']<confidence:\n",
    "        print('在显著性水平{0:}下，两组样本的方差不相等(p={1:.4f})，因此需要使用方差不等的t检验'.format(confidence,pVal['levene']))\n",
    "        print('------------------------------------')\n",
    "        _, pVal['t-test'] = stats.ttest_ind(group1, group2,equal_var=False,alternative=alternative) # 因为方差不相等，因此是False\n",
    "        print('t检验p值：{}'.format(pVal['t']))\n",
    "    else:\n",
    "        print('在显著性水平{0:}下，不能拒绝两组样本方差相等的假设(p={1:.4f})，因此需要使用方差相等的t检验'.format(confidence,pVal['levene']))\n",
    "        print('------------------------------------')\n",
    "        _, pVal['t-test'] = stats.ttest_ind(group1, group2,equal_var=True,alternative=alternative) # 因为方差相等，因此是True     \n",
    "        print('t检验p值：{:.3f}'.format(pVal['t-test']))   \n",
    "    \n",
    "\n",
    "    # mannwhitneyu检验-数据不服从正态检验\n",
    "    _, pVal['mannwhitneyu'] = stats.mannwhitneyu(group1, group2,alternative=alternative)\n",
    "    print('Mann-Whitney检验p值：{:.3f}'.format(pVal['mannwhitneyu']))\n",
    "    # --- >>> STOP stats <<< ---\n",
    "    \n",
    "    # 两组样本均值的散点图可视化\n",
    "    print('------------------------------------')\n",
    "    print('两组样本均值的散点图可视化')\n",
    "    plt.plot(group1, 'bx', label='group1')\n",
    "    plt.plot(group2, 'ro', label='group2')\n",
    "    plt.legend(loc=0)\n",
    "    plt.show()\n",
    "    \n",
    "    return pVal "
   ]
  },
  {
   "cell_type": "code",
   "execution_count": 15,
   "metadata": {},
   "outputs": [
    {
     "name": "stdout",
     "output_type": "stream",
     "text": [
      "在显著性水平0.05下，不能拒绝两组样本方差相等的假设(p=0.8277)，因此需要使用方差相等的t检验\n",
      "------------------------------------\n",
      "t检验p值：0.221\n",
      "Mann-Whitney检验p值：0.260\n",
      "------------------------------------\n",
      "两组样本均值的散点图可视化\n"
     ]
    },
    {
     "data": {
      "image/png": "[encoded data removed]",
      "text/plain": [
       "<Figure size 432x288 with 1 Axes>"
      ]
     },
     "metadata": {
      "needs_background": "light"
     },
     "output_type": "display_data"
    },
    {
     "data": {
      "text/plain": [
       "levene          0.827727\n",
       "t-test          0.221138\n",
       "mannwhitneyu    0.259739\n",
       "dtype: float64"
      ]
     },
     "execution_count": 15,
     "metadata": {},
     "output_type": "execute_result"
    }
   ],
   "source": [
    "# 陈老师班\n",
    "group1=data\n",
    "# 王老师班\n",
    "group2=np.array([134,136,135,145,147,140,142,137,139,140,141,135])\n",
    "\n",
    "unpaired_data(group1,group2)"
   ]
  },
  {
   "cell_type": "markdown",
   "metadata": {},
   "source": [
    "两个检验都表明，两个班级的平均分没有显著差异。"
   ]
  },
  {
   "cell_type": "markdown",
   "metadata": {},
   "source": [
    "#### 成对组别"
   ]
  },
  {
   "cell_type": "markdown",
   "metadata": {},
   "source": [
    "在进行两组间均值比较的时候，有一种特殊情况——两个样本“故意”不独立。这种情况多出现两个样本分别为**同一个受试个体**不同时间的受试结果，这两个样本是“成对”的，是彼此紧密相连的。对这样两个样本进行均值比较检验，就是成对检验。\n",
    "\n",
    "为了让大家更好地理解“成对”的概念，我们再把Example.3的故事讲长一点。\n",
    "\n",
    "**Example.4** 得知了王老师班的考试均值与自己班的没有显著差异，陈老师非常生气：“我堂堂优秀教师，居然不能和隔壁老王拉开差距，岂有此理！”，于是陈老师开始了为期一周的魔鬼训练，并在一个星期后又进行了一次全班的测验。陈老师**依旧抽取了上次十位同学的成绩**，依次为：\n",
    "\n",
    "139,141,137,136,135,132,141,148,145,139\n",
    "\n",
    "问：这次班级均分与上次是否存在显著差异呢？\n",
    "\n",
    "显然，两个样本分别为**相同的同学**前后两次的考试成绩，是非常典型的成对数据，因此我们可以使用成对检验。成对检验也分为两种：若总体服从正态分布，则使用成对t检验；若总体不服从正态分布，则使用成对wilcoxon秩和检验。"
   ]
  },
  {
   "cell_type": "markdown",
   "metadata": {},
   "source": [
    "**· 成对t检验**\n",
    "\n",
    "成对检验与独立双样本检验的假设问题是一样的\n",
    "$$\n",
    "H_0:\\mu _x=\\mu _y\\leftrightarrow H_1:\\mu _x\\ne \\mu _y\\,\n",
    "$$\n",
    "事实上，成对t检验本质上是检验$\\mu_x-\\mu_y$的差值是否为0的**单样本均值t检验**，因此它的检验统计量就可以按照单样本均值t检验的检验统计量构造，只不过变量换成了$x-y$，目标值为0。\n",
    "\n",
    "检验统计量为：\n",
    "$$\n",
    "Test\\,\\,statistics=\\frac{\\bar{x}-\\bar{y}}{s_d}\\,\\,, d=x-y\n",
    "$$\n",
    "检验统计量服从分布：\n",
    "$$\n",
    "Test\\,\\,statistics\\sim t_{n-1}\n",
    "$$\n",
    "其中，$n$为样本量。"
   ]
  },
  {
   "cell_type": "markdown",
   "metadata": {},
   "source": [
    "**· 成对wilcoxon符号秩和检验**"
   ]
  },
  {
   "cell_type": "markdown",
   "metadata": {},
   "source": [
    "和成对t检验相同，成对wilcoxon符号秩和检验本质上就是前面的单样本wilcoxon符号秩和检验，变量也是换成了$x-y$，目标值为0。"
   ]
  },
  {
   "cell_type": "code",
   "execution_count": 16,
   "metadata": {},
   "outputs": [],
   "source": [
    "def paired_data(group1:np.ndarray,group2:np.ndarray,confidence,alternative='two-sided'):\n",
    "    \"\"\"\n",
    "    输入参数\n",
    "    ----------\n",
    "    group1/2 : 用于比较的两组数据，注意，两组数据的样本顺序必须相同\n",
    "    confidence : 显著性水平\n",
    "    alternative : 检验类型，这取决于我们备择假设的符号:two-sided为双侧检验、greater为右侧检验、less为左侧检验\n",
    "\n",
    "    输出\n",
    "    -------\n",
    "    在两种检验下的p值\n",
    "    在显著性水平下是否拒绝原假设\n",
    "    \"\"\"\n",
    "    pVal=pd.Series(dtype='float64')\n",
    "\n",
    "    # 配对t检验-样本服从正态分布\n",
    "    _, pVal['t-test'] = stats.ttest_1samp(post - pre, 0,alternative=alternative)\n",
    "    print('t-test------------------------')\n",
    "    if pVal['t-test'] < confidence:\n",
    "      print(('在显著性水平{0:}下，两组配对样本的均值不相等(p={1:5.3f}).'.format(confidence,pVal['t-test'])))\n",
    "    else:\n",
    "      print(('在显著性水平{0:}下无法拒绝等于样本均值的假设.(p={1:5.3f})'.format(confidence,pVal['t-test'])))    \n",
    "\n",
    "    # wilcoxon秩和检验\n",
    "    _, pVal['wilcoxon'] = stats.wilcoxon(group1,group2, mode='approx',alternative=alternative)\n",
    "    print('wilcoxon------------------------')\n",
    "    if pVal['wilcoxon'] < confidence:\n",
    "      print(('在显著性水平{0:}下，两组配对样本的均值不相等(p={1:5.3f}).'.format(confidence,pVal['wilcoxon'])))\n",
    "    else:\n",
    "      print(('在显著性水平{0:}下无法拒绝等于样本均值的假设.(p={1:5.3f})'.format(confidence,pVal['wilcoxon'])))    \n",
    "    \n",
    "    return pVal"
   ]
  },
  {
   "cell_type": "code",
   "execution_count": 17,
   "metadata": {},
   "outputs": [
    {
     "name": "stdout",
     "output_type": "stream",
     "text": [
      "t-test------------------------\n",
      "在显著性水平0.05下，两组配对样本的均值不相等(p=0.039).\n",
      "wilcoxon------------------------\n",
      "在显著性水平0.05下，两组配对样本的均值不相等(p=0.049).\n"
     ]
    },
    {
     "name": "stderr",
     "output_type": "stream",
     "text": [
      "e:\\anaconda\\envs\\ml\\lib\\site-packages\\scipy\\stats\\morestats.py:3155: UserWarning: Sample size too small for normal approximation.\n",
      "  warnings.warn(\"Sample size too small for normal approximation.\")\n"
     ]
    },
    {
     "data": {
      "text/plain": [
       "t-test      0.039370\n",
       "wilcoxon    0.048997\n",
       "dtype: float64"
      ]
     },
     "execution_count": 17,
     "metadata": {},
     "output_type": "execute_result"
    }
   ],
   "source": [
    "# 第一次测验\n",
    "pre=data\n",
    "# 第二次测验\n",
    "post=np.array([139,141,137,136,135,132,141,148,145,139])\n",
    "\n",
    "paired_data(pre,post,0.05)"
   ]
  },
  {
   "cell_type": "markdown",
   "metadata": {},
   "source": [
    "两种检验都显示两次测验的均分在显著性水平0.05下有显著差异，根据双边检验的p值是某侧单边检验两倍的结论，我们可以推测出第二次测验的均分均值显著地高于第一次测验均分，恭喜陈老师，赢！"
   ]
  },
  {
   "cell_type": "markdown",
   "metadata": {},
   "source": [
    "### 2.2.3 方差分析-多组样本间的均值相等性检验"
   ]
  },
  {
   "cell_type": "markdown",
   "metadata": {},
   "source": [
    "我们在前面学习了单组样本以及两组样本的均值检验，接下来开始学习同时对多组样本的总体进行均值检验。这种对多个总体的均值做比较检验的统计方法，称为方差分析(Analysis of variance，ANOVA)。为什么明明是对均值进行研究，我们却要叫它方差分析呢？不着急，我们慢慢往下看。\n",
    "\n",
    "在方差分析部分，我们将重点讲解单因素方差分析的原理与思想，对于多因素方差，我们只讲解如何应用。"
   ]
  },
  {
   "cell_type": "markdown",
   "metadata": {},
   "source": [
    "#### 单因素方差分析"
   ]
  },
  {
   "cell_type": "markdown",
   "metadata": {},
   "source": [
    "**· 认识方差分析**\n",
    "\n",
    "如上面所讲，方差分析就是对多个总体的均值做比较检验的统计方法。那么，单/多因素方差分析中的因素是什么意思呢？我们看看下面三个方差分析问题的举例：\n",
    "\n",
    "1. 四种不同商标的同一类型产品的质量指标是否一致。\n",
    "2. 对同样的商品，采取三种不同的销售方式是否会导致显著不同的销售量。\n",
    "3. 五个不同居民区的居民购买力是否存在显著差异。\n",
    "\n",
    "在这些例子中，商标、销售方式、居民区这些**区分不同组别的依据**就是因素（也叫因子），通常用大写字母$A,B,C$等表示这些因素，而一个因素所处的不同的状态被称为水平，用$A_1,A_2$等表示。在这三个例子中，因素都只有一个，因此它们都是单因素方差分析；若因素有多个，则被称为多因素方差分析。\n",
    "\n",
    "对于单因素方差分析而言，进行比较的样本个数，本质上就是该因素的水平个数。例如，在举例1.中，我们其实比较的是四个商标不同的产品质量指标样本均值（所在总体的均值），在该例中，因素“商标”的因子水平个数为4。\n",
    "\n",
    "那么，方差分析的多个总体均值比较是怎么个比较法呢？是两两之间互相比较吗？非也！是**同时比较**它们，写成假设检验的形式有：\n",
    "$$\n",
    "H_0:\\mu _1=\\mu _2=\\mu _i=\\cdots \\mu _k\\leftrightarrow H_1: \\mu _i\\text{不全相等}\n",
    "$$\n",
    "其中，$k$为样本个数（因子水平个数）。\n",
    "\n",
    "简单看看总体均值不全相等的情形\n",
    "\n",
    "<img src=\"./images/方差分析.png\">\n",
    "\n",
    "\n"
   ]
  },
  {
   "cell_type": "markdown",
   "metadata": {},
   "source": [
    "**· 方差分析的假设**\n",
    "\n",
    "在讲解方差分析前，我们明确一下方差分析需要满足的假设：\n",
    "\n",
    "1. 每个样本的总体均为正态总体\n",
    "2. 各总体的标准差相同\n",
    "3. 从每个总体中抽取的样本相互独立\n",
    "\n",
    "若样本满足以上条件，方差分析的结果是准确的。但是在大样本下，就算不满足假设1.与假设2.，方差分析的结果也是稳健的。"
   ]
  },
  {
   "cell_type": "markdown",
   "metadata": {},
   "source": [
    "**· 方差分析的思想**\n",
    "\n",
    "接下来，我们正式进行对方差分析的学习，首先我们需要大致了解方差分析的内在思想是什么。\n",
    "\n",
    "首先，既然我们检验的是不同总体的均值是否相等，那么观察各样本的样本均值的“差异程度”一定是非常自然且合理的想法，如果各样本的均值差异很大，那么它们的总体均值也有很大可能存在差异。\n",
    "\n",
    "样本间均值的“差异程度”是一个很好的评判指标，但这并不足够，还有一个不起眼的指标也十分重要：各样本的样本内差异程度。在相同的样本间差异程度下，样本内差异程度越大，各总体间均值存在差异的可能性就越小，为什么呢？简单来说，就是样本内差异程度越大，“偶然性”越大，我们越难以判断两个不相等的均值是否真的不相等。\n",
    "\n",
    "举个例子：小红的考试均分是91，小刚的考试均分是89。我们假设一个非常极端的情况：他们的标准差都是0，即小红每次考试都是91，小刚每次考试都是89，那么我们似乎可以很容易地判断出，两个人的均分确实存在明显的差异；但是，如果他们的标准差都很大，高达6（方差就是36），即他们的成绩都很不稳定，这次小红考79、小刚考93，下次小红考94、小刚考70。在高达36的方差下，2分的均值差似乎没有什么说服力了。\n",
    "\n",
    "因此，我们需要综合这两个评判指标。最简单的方法就是两者相除，即样本间均值的“差异程度”除以样本内差异程度。这就是方差分析最根本的思想。"
   ]
  },
  {
   "cell_type": "markdown",
   "metadata": {},
   "source": [
    "**· 原理解析**\n",
    "\n",
    "记$y_{ij}$为第$i$个样本的第$j$个样品，假设有r个样本，每个样本的样品数量都同为$m$，于是我们有$r\\times m$个样品：\n",
    "$$\n",
    "y_{i j}, \\quad i=1,2, \\cdots, r, \\quad j=1,2, \\cdots, m,\n",
    "$$\n",
    "\n",
    "既然我们要研究“差异程度”，那么观察每个样本值$y_{ij}$与平均值的偏差一定是必不可少的。数据$y_{ij}$与所有数据的总平均$\\bar{y}$的偏差可用$y_{ij}-\\bar{y}$表示，这个总偏差可以解构为两个偏差之和：\n",
    "$$\n",
    "y_{ij}-\\bar{y}=\\left( y_{ij}-\\bar{y}_{i·} \\right) +\\left( \\bar{y}_{i·}-\\bar{y} \\right) \n",
    "$$\n",
    "其中，$\\bar{y}_{i·}$为因素$A$在第$i$个水平下的样本均值（或者就是第$i$个样本的均值）。\n",
    "\n",
    "$y_{ij}-\\bar{y}_{i·}$被称为**组内偏差**，它反映了第$i$个样本的组内数据与组内平均值的随机误差；\n",
    "\n",
    "$\\bar{y}_{i·}-\\bar{y}$被称为**组间偏差**，除了反映随机误差外，它还反映了第$i$个的**总体**均值与**全总体均值**的差值，它可以理解为因素$A$的第$i$个水平带来的**主效应**。\n",
    "\n",
    "我们思考一下可以发现，以上两种偏差是不是分别对应了我们前面所提到的样本内差异程度与样本间均值的差异程度呢？答案是肯定的。我们继续往下看。\n",
    "\n",
    "我们完成了对一个样本值与平均值偏差的解构，接下来就要将所有的偏差汇总起来，计算总的“差异程度”。\n",
    "\n",
    "各$y_{ij}$间总的差异大小可以用**总偏差平方和**$S_T$表示（思考一下为什么是平方和，而不是直接相加呢？）\n",
    "$$\n",
    "S_{T}=\\sum_{i=1}^{r} \\sum_{j=1}^{m}\\left(y_{i j}-\\bar{y}\\right)^{2}, \\quad f_{T}=n-1,\n",
    "$$\n",
    "仅由随机误差引起的数据间差异可用**组内偏差平方和**$S_e$表示\n",
    "$$\n",
    "S_{e}=\\sum_{i=1}^{r} \\sum_{j=1}^{m}\\left(y_{i j}-\\bar{y}_{i} .\\right)^{2}, \\quad f_{e}=r(m-1)=n-r .\n",
    "$$\n",
    "由于效应不同引起的数据差异可用**组间偏差平方和**$S_A$表示\n",
    "$$\n",
    "S_{A}=m \\sum_{i=1}\\left(\\bar{y}_{i} .-\\bar{y}\\right)^{2}, \\quad f_{A}=r-1\n",
    "$$\n",
    "其中，$f$为它们各自的自由度。\n",
    "\n",
    "以上三种偏差平方和的大小和数据的个数（或者自由度）有关，通常而言，数据越多，偏差平方和越大，**这不利于进行偏差平方和之间的比较**。因此，我们需要将它们的“量纲”统一起来，方法也非常简单：让它们除以自己的自由度即可。我们定义：\n",
    "$$\n",
    "M S_{A}=\\frac{S_{A}}{f_{A}}, \\quad M S_{e}=\\frac{S_{e}}{f_{e}}\n",
    "$$\n",
    "然后，我们就可以将两者相除，以判断多组样本的均值是否相等了。\n",
    "\n",
    "单因素方差分析检验统计量为\n",
    "$$\n",
    "Test\\,\\,statistics=\\frac{MS_A}{MS_e}\n",
    "$$\n",
    "检验统计量服从分布\n",
    "$$\n",
    "Test\\,\\,statistics\\sim F\\left( f_A,f_e \\right) \n",
    "$$\n",
    "p值计算：\n",
    "$$\n",
    "pvalue=P\\left( F>Test\\,\\,statistics \\right) \n",
    "$$\n",
    "注意，尽管方差分析做的是多均值的“相等性”检验，它的p值并不是双边检验，而是单边检验。前面所说的看备择假设的符号判断p值的形式只适用于单样本与双样本均值检验。\n",
    "\n"
   ]
  },
  {
   "cell_type": "markdown",
   "metadata": {},
   "source": [
    "**· kruskalwallis检验——非正态性检验**"
   ]
  },
  {
   "cell_type": "markdown",
   "metadata": {},
   "source": [
    "尽管在大样本下，非正态性数据的方差分析也是稳健的，但是在小样本下，对非正态性数据做方差分析还是可能存在误差。此时，我们可以使用kruskalwallis检验。该检验也是一种非参数检验，关于该检验的原理，我们就不再学习了。大家只需要知道它的应用场景既可。"
   ]
  },
  {
   "cell_type": "markdown",
   "metadata": {},
   "source": [
    "实操：对altman_910.txt数据集进行方差分析。该数据记录了3组心脏搭桥病人给予不同水平的一氧化氮通气下，他们的红细胞内叶酸水平。注：三组样本都是正态性样本。"
   ]
  },
  {
   "cell_type": "code",
   "execution_count": 18,
   "metadata": {},
   "outputs": [],
   "source": [
    "data = np.genfromtxt('./data/altman_910.txt', delimiter=',') \n",
    "group1 = data[data[:,1]==1,0]\n",
    "group2 = data[data[:,1]==2,0]\n",
    "group3 = data[data[:,1]==3,0]\n",
    "group1\n",
    "\n",
    "from typing import Tuple\n",
    "\n",
    "def anova_oneway() -> Tuple[float, float]:\n",
    "\n",
    "    pVal=pd.Series(dtype='float64')\n",
    "\n",
    "    # 先做方差齐性检验\n",
    "    _,pVal['levene'] = stats.levene(group1, group2, group3)\n",
    "    if pVal['levene']<0.05: #这里假设显著性水平为0.05\n",
    "        print('警告: 方差齐性检验的p值小于0.05: p={}，方差分析结果在小样本下可能不准确'.format(pVal['levene']))\n",
    "        print('-------------------------------')\n",
    "\n",
    "    # 单因素方差分析-假设样本服从正态分布\n",
    "    _, pVal['anova_oneway_normal'] = stats.f_oneway(group1, group2, group3) # 在这里输入待分析的数据\n",
    "    \n",
    "    print('若样本服从正态分布，单因素方差分析的p值为{}'.format(pVal['anova_oneway_normal']))\n",
    "    if pVal['anova_oneway_normal'] < 0.05:\n",
    "        print('检验在0.05的显著性水平下显著，多组样本中至少存在一组样本均值与其它样本的均值不相等。')\n",
    "\n",
    "    print('---------------------------------')\n",
    "\n",
    "    # 单因素方差分析-假设样本不服从正态分布\n",
    "    _, pVal['anova_oneway_notnormal'] = stats.mstats.kruskalwallis(group1, group2, group3) # 在这里输入待分析的数据\n",
    "    \n",
    "    print('若样本不服从正态分布，单因素方差分析的p值为{}'.format(pVal['anova_oneway_notnormal']))\n",
    "    if pVal['anova_oneway_notnormal'] < 0.05:\n",
    "        print('检验在0.05的显著性水平下显著，多组样本中至少存在一组样本均值与其它样本的均值不相等。')    \n",
    "\n",
    "    return pVal"
   ]
  },
  {
   "cell_type": "code",
   "execution_count": 19,
   "metadata": {},
   "outputs": [
    {
     "name": "stdout",
     "output_type": "stream",
     "text": [
      "警告: 方差齐性检验的p值小于0.05: p=0.045846812634186246，方差分析结果在小样本下可能不准确\n",
      "-------------------------------\n",
      "若样本服从正态分布，单因素方差分析的p值为0.043589334959178244\n",
      "检验在0.05的显著性水平下显著，多组样本中至少存在一组样本均值与其它样本的均值不相等。\n",
      "---------------------------------\n",
      "若样本不服从正态分布，单因素方差分析的p值为0.12336326887166982\n"
     ]
    },
    {
     "data": {
      "text/plain": [
       "levene                    0.045847\n",
       "anova_oneway_normal       0.043589\n",
       "anova_oneway_notnormal    0.123363\n",
       "dtype: float64"
      ]
     },
     "execution_count": 19,
     "metadata": {},
     "output_type": "execute_result"
    }
   ],
   "source": [
    "anova_oneway()"
   ]
  },
  {
   "cell_type": "markdown",
   "metadata": {},
   "source": [
    "两种检验的结果相差很大，若满足正态性假设，ANOVA的灵敏度优于kruskalwallis检验，因此我们在进行方差分析前最好做一次正态性检验。"
   ]
  },
  {
   "cell_type": "markdown",
   "metadata": {},
   "source": [
    "#### 双因素方差分析"
   ]
  },
  {
   "cell_type": "markdown",
   "metadata": {},
   "source": [
    "尽管我们说，单因素方差分析具备比较多个总体均值的功能，但其实它的本质是探究因素$A$是否显著。若显著，则意味着这些总体均值的不相等是因为因素$A$导致的；若不显著，则意味着因素$A$不能导致他们不相等。\n",
    "\n",
    "如果我们将因素个数提升至两个，则此时方差分析就变为了双因素方差分析。值得注意的是，双因素方差分析不仅仅探究两个因素是否显著，还要探究两个因素的交互项是否显著（有点回归分析的意思了哈！）。事实上确实如此，对于这种多因素的方差分析，借用线性回归模型来解决问题可以事半功倍，不过没有学习过线性回归的同学也不用担心，在这里我们只学习如何使用即可，对原理感兴趣的同学得额外花点时间自学了。"
   ]
  },
  {
   "cell_type": "markdown",
   "metadata": {},
   "source": [
    "**· 实例讲解**"
   ]
  },
  {
   "cell_type": "markdown",
   "metadata": {},
   "source": [
    "我们来看一下这个测量婴儿头围hs的例子。\n",
    "\n",
    "现在有3个婴儿的头围需要测量，我们想知道他们的头围有无显著的区别。注意，如果我们只探究这个问题，则此时就是单因素方差分析，探究的是（因素：婴儿fetus）对头围的是否有显著性影响。\n",
    "\n",
    "然而，人工测量总是有误差的。为了保证客观性，我们请了四位观察者observer，让他们对每个婴儿的头围重复测量重复测量三次，并记录每一次测量的结果，此时，我们总共会得到3*3*4=36个样品。我们将（因素：observer）也纳入考量，同时考量两个因素以及他们的交互项的显著性。如果观察者因素没有显著差别，就说明观察者观察的结果很一致；反之，他们观察的差距非常大，可能要另外寻找其他的观察者。"
   ]
  },
  {
   "cell_type": "code",
   "execution_count": 20,
   "metadata": {},
   "outputs": [
    {
     "data": {
      "text/html": [
       "<div>\n",
       "<style scoped>\n",
       "    .dataframe tbody tr th:only-of-type {\n",
       "        vertical-align: middle;\n",
       "    }\n",
       "\n",
       "    .dataframe tbody tr th {\n",
       "        vertical-align: top;\n",
       "    }\n",
       "\n",
       "    .dataframe thead th {\n",
       "        text-align: right;\n",
       "    }\n",
       "</style>\n",
       "<table border=\"1\" class=\"dataframe\">\n",
       "  <thead>\n",
       "    <tr style=\"text-align: right;\">\n",
       "      <th></th>\n",
       "      <th>hs</th>\n",
       "      <th>fetus</th>\n",
       "      <th>observer</th>\n",
       "    </tr>\n",
       "  </thead>\n",
       "  <tbody>\n",
       "    <tr>\n",
       "      <th>0</th>\n",
       "      <td>14.3</td>\n",
       "      <td>1.0</td>\n",
       "      <td>1.0</td>\n",
       "    </tr>\n",
       "    <tr>\n",
       "      <th>1</th>\n",
       "      <td>14.0</td>\n",
       "      <td>1.0</td>\n",
       "      <td>1.0</td>\n",
       "    </tr>\n",
       "    <tr>\n",
       "      <th>2</th>\n",
       "      <td>14.8</td>\n",
       "      <td>1.0</td>\n",
       "      <td>1.0</td>\n",
       "    </tr>\n",
       "    <tr>\n",
       "      <th>3</th>\n",
       "      <td>13.6</td>\n",
       "      <td>1.0</td>\n",
       "      <td>2.0</td>\n",
       "    </tr>\n",
       "    <tr>\n",
       "      <th>4</th>\n",
       "      <td>13.6</td>\n",
       "      <td>1.0</td>\n",
       "      <td>2.0</td>\n",
       "    </tr>\n",
       "    <tr>\n",
       "      <th>5</th>\n",
       "      <td>13.8</td>\n",
       "      <td>1.0</td>\n",
       "      <td>2.0</td>\n",
       "    </tr>\n",
       "    <tr>\n",
       "      <th>6</th>\n",
       "      <td>13.9</td>\n",
       "      <td>1.0</td>\n",
       "      <td>3.0</td>\n",
       "    </tr>\n",
       "    <tr>\n",
       "      <th>7</th>\n",
       "      <td>13.7</td>\n",
       "      <td>1.0</td>\n",
       "      <td>3.0</td>\n",
       "    </tr>\n",
       "    <tr>\n",
       "      <th>8</th>\n",
       "      <td>13.8</td>\n",
       "      <td>1.0</td>\n",
       "      <td>3.0</td>\n",
       "    </tr>\n",
       "    <tr>\n",
       "      <th>9</th>\n",
       "      <td>13.8</td>\n",
       "      <td>1.0</td>\n",
       "      <td>4.0</td>\n",
       "    </tr>\n",
       "    <tr>\n",
       "      <th>10</th>\n",
       "      <td>14.7</td>\n",
       "      <td>1.0</td>\n",
       "      <td>4.0</td>\n",
       "    </tr>\n",
       "    <tr>\n",
       "      <th>11</th>\n",
       "      <td>13.9</td>\n",
       "      <td>1.0</td>\n",
       "      <td>4.0</td>\n",
       "    </tr>\n",
       "    <tr>\n",
       "      <th>12</th>\n",
       "      <td>19.7</td>\n",
       "      <td>2.0</td>\n",
       "      <td>1.0</td>\n",
       "    </tr>\n",
       "    <tr>\n",
       "      <th>13</th>\n",
       "      <td>19.9</td>\n",
       "      <td>2.0</td>\n",
       "      <td>1.0</td>\n",
       "    </tr>\n",
       "    <tr>\n",
       "      <th>14</th>\n",
       "      <td>19.8</td>\n",
       "      <td>2.0</td>\n",
       "      <td>1.0</td>\n",
       "    </tr>\n",
       "    <tr>\n",
       "      <th>15</th>\n",
       "      <td>19.8</td>\n",
       "      <td>2.0</td>\n",
       "      <td>2.0</td>\n",
       "    </tr>\n",
       "    <tr>\n",
       "      <th>16</th>\n",
       "      <td>19.3</td>\n",
       "      <td>2.0</td>\n",
       "      <td>2.0</td>\n",
       "    </tr>\n",
       "    <tr>\n",
       "      <th>17</th>\n",
       "      <td>19.8</td>\n",
       "      <td>2.0</td>\n",
       "      <td>2.0</td>\n",
       "    </tr>\n",
       "    <tr>\n",
       "      <th>18</th>\n",
       "      <td>19.5</td>\n",
       "      <td>2.0</td>\n",
       "      <td>3.0</td>\n",
       "    </tr>\n",
       "    <tr>\n",
       "      <th>19</th>\n",
       "      <td>19.8</td>\n",
       "      <td>2.0</td>\n",
       "      <td>3.0</td>\n",
       "    </tr>\n",
       "    <tr>\n",
       "      <th>20</th>\n",
       "      <td>19.5</td>\n",
       "      <td>2.0</td>\n",
       "      <td>3.0</td>\n",
       "    </tr>\n",
       "    <tr>\n",
       "      <th>21</th>\n",
       "      <td>19.8</td>\n",
       "      <td>2.0</td>\n",
       "      <td>4.0</td>\n",
       "    </tr>\n",
       "    <tr>\n",
       "      <th>22</th>\n",
       "      <td>19.6</td>\n",
       "      <td>2.0</td>\n",
       "      <td>4.0</td>\n",
       "    </tr>\n",
       "    <tr>\n",
       "      <th>23</th>\n",
       "      <td>19.8</td>\n",
       "      <td>2.0</td>\n",
       "      <td>4.0</td>\n",
       "    </tr>\n",
       "    <tr>\n",
       "      <th>24</th>\n",
       "      <td>13.0</td>\n",
       "      <td>3.0</td>\n",
       "      <td>1.0</td>\n",
       "    </tr>\n",
       "    <tr>\n",
       "      <th>25</th>\n",
       "      <td>12.6</td>\n",
       "      <td>3.0</td>\n",
       "      <td>1.0</td>\n",
       "    </tr>\n",
       "    <tr>\n",
       "      <th>26</th>\n",
       "      <td>12.9</td>\n",
       "      <td>3.0</td>\n",
       "      <td>1.0</td>\n",
       "    </tr>\n",
       "    <tr>\n",
       "      <th>27</th>\n",
       "      <td>12.4</td>\n",
       "      <td>3.0</td>\n",
       "      <td>2.0</td>\n",
       "    </tr>\n",
       "    <tr>\n",
       "      <th>28</th>\n",
       "      <td>12.8</td>\n",
       "      <td>3.0</td>\n",
       "      <td>2.0</td>\n",
       "    </tr>\n",
       "    <tr>\n",
       "      <th>29</th>\n",
       "      <td>12.5</td>\n",
       "      <td>3.0</td>\n",
       "      <td>2.0</td>\n",
       "    </tr>\n",
       "    <tr>\n",
       "      <th>30</th>\n",
       "      <td>12.8</td>\n",
       "      <td>3.0</td>\n",
       "      <td>3.0</td>\n",
       "    </tr>\n",
       "    <tr>\n",
       "      <th>31</th>\n",
       "      <td>12.7</td>\n",
       "      <td>3.0</td>\n",
       "      <td>3.0</td>\n",
       "    </tr>\n",
       "    <tr>\n",
       "      <th>32</th>\n",
       "      <td>12.5</td>\n",
       "      <td>3.0</td>\n",
       "      <td>3.0</td>\n",
       "    </tr>\n",
       "    <tr>\n",
       "      <th>33</th>\n",
       "      <td>13.0</td>\n",
       "      <td>3.0</td>\n",
       "      <td>4.0</td>\n",
       "    </tr>\n",
       "    <tr>\n",
       "      <th>34</th>\n",
       "      <td>12.9</td>\n",
       "      <td>3.0</td>\n",
       "      <td>4.0</td>\n",
       "    </tr>\n",
       "    <tr>\n",
       "      <th>35</th>\n",
       "      <td>13.8</td>\n",
       "      <td>3.0</td>\n",
       "      <td>4.0</td>\n",
       "    </tr>\n",
       "  </tbody>\n",
       "</table>\n",
       "</div>"
      ],
      "text/plain": [
       "      hs  fetus  observer\n",
       "0   14.3    1.0       1.0\n",
       "1   14.0    1.0       1.0\n",
       "2   14.8    1.0       1.0\n",
       "3   13.6    1.0       2.0\n",
       "4   13.6    1.0       2.0\n",
       "5   13.8    1.0       2.0\n",
       "6   13.9    1.0       3.0\n",
       "7   13.7    1.0       3.0\n",
       "8   13.8    1.0       3.0\n",
       "9   13.8    1.0       4.0\n",
       "10  14.7    1.0       4.0\n",
       "11  13.9    1.0       4.0\n",
       "12  19.7    2.0       1.0\n",
       "13  19.9    2.0       1.0\n",
       "14  19.8    2.0       1.0\n",
       "15  19.8    2.0       2.0\n",
       "16  19.3    2.0       2.0\n",
       "17  19.8    2.0       2.0\n",
       "18  19.5    2.0       3.0\n",
       "19  19.8    2.0       3.0\n",
       "20  19.5    2.0       3.0\n",
       "21  19.8    2.0       4.0\n",
       "22  19.6    2.0       4.0\n",
       "23  19.8    2.0       4.0\n",
       "24  13.0    3.0       1.0\n",
       "25  12.6    3.0       1.0\n",
       "26  12.9    3.0       1.0\n",
       "27  12.4    3.0       2.0\n",
       "28  12.8    3.0       2.0\n",
       "29  12.5    3.0       2.0\n",
       "30  12.8    3.0       3.0\n",
       "31  12.7    3.0       3.0\n",
       "32  12.5    3.0       3.0\n",
       "33  13.0    3.0       4.0\n",
       "34  12.9    3.0       4.0\n",
       "35  13.8    3.0       4.0"
      ]
     },
     "execution_count": 20,
     "metadata": {},
     "output_type": "execute_result"
    }
   ],
   "source": [
    "# statsmodel包分析的对象更多的是dataframe，前面的分析对象多为数组，这一点需要注意。\n",
    "data = np.genfromtxt('./data/altman_12_6.txt', delimiter=',')\n",
    "df = pd.DataFrame(data, columns=['hs', 'fetus', 'observer'])\n",
    "df"
   ]
  },
  {
   "cell_type": "code",
   "execution_count": 21,
   "metadata": {},
   "outputs": [
    {
     "name": "stdout",
     "output_type": "stream",
     "text": [
      "                        df      sum_sq     mean_sq            F        PR(>F)\n",
      "C(fetus)               2.0  324.008889  162.004444  2113.101449  1.051039e-27\n",
      "C(observer)            3.0    1.198611    0.399537     5.211353  6.497055e-03\n",
      "C(fetus):C(observer)   6.0    0.562222    0.093704     1.222222  3.295509e-01\n",
      "Residual              24.0    1.840000    0.076667          NaN           NaN\n"
     ]
    }
   ],
   "source": [
    "import statsmodels.api as sm\n",
    "from statsmodels.stats.anova import anova_lm\n",
    "\n",
    "lm = sm.formula.ols('hs~C(fetus)+C(observer)+C(fetus):C(observer)',data=df).fit()\n",
    "# 将待分析的因变量放在~左侧，因素放在~右侧\n",
    "# 因素用C()括起来，交互项使用:将两者联系在一起。\n",
    "anovaResults = anova_lm(lm) # 方差分析\n",
    "print(anovaResults)# 3. 多元数值向量的假设检验"
   ]
  },
  {
   "cell_type": "markdown",
   "metadata": {},
   "source": [
    "我们直接观察最后的p值：婴儿因素与观察者因素都显著，但是两者的交互项不显著，这说明三个婴儿的头围确实存在差异，但是观察者差异也很大，且没有一个单独的观察者对特定的一个胎儿有显著影响。"
   ]
  },
  {
   "cell_type": "markdown",
   "metadata": {},
   "source": [
    "# 作业"
   ]
  },
  {
   "cell_type": "markdown",
   "metadata": {},
   "source": [
    "三台车床生产同一种滚珠，我们从中各抽取13、14、16个产品，测得直径分别为：\n",
    "\n",
    "甲车床：15.0,14.5,15.2,15.5,14.8,15.1,15.2,14.8,13.9,16.0,15.1,14.5,15.2;\n",
    "\n",
    "乙车床：15.2,15.0,14.8,15.2,15.0,15.0,14.8,15.1,14.8,15.0,13.7,14.1,15.5,15.9;\n",
    "\n",
    "丙车床：14.6,15.0,14.7,13.9,13.8,15.5,15.5,16.2,16.1,15.3,15.4,15,9,15.2,16.0,14.8,14.9\n",
    "\n",
    "假设显著性水平为$\\alpha=0.01$，问：\n",
    "\n",
    "1. 甲/乙车床生产的滚珠直径是否服从正态分布？\n",
    "\n",
    "2. 甲/乙车床生产的滚珠直径的方差是否存在显著性差异？\n",
    "\n",
    "3. 甲/乙车床生产的滚珠直径是否存在显著性差异？\n",
    "\n",
    "4. 三台车床生产的滚珠直径是否存在显著性差异？在单因素方差分析中，本题的因素是什么？"
   ]
  }
 ],
 "metadata": {
  "kernelspec": {
   "display_name": "Python 3.8.12 ('ml')",
   "language": "python",
   "name": "python3"
  },
  "language_info": {
   "codemirror_mode": {
    "name": "ipython",
    "version": 3
   },
   "file_extension": ".py",
   "mimetype": "text/x-python",
   "name": "python",
   "nbconvert_exporter": "python",
   "pygments_lexer": "ipython3",
   "version": "3.8.12"
  },
  "orig_nbformat": 4,
  "vscode": {
   "interpreter": {
    "hash": "d04da679f0afee458c3e357f6d2cf382c79de022618e35f1262af9ecf478f5e1"
   }
  }
 },
 "nbformat": 4,
 "nbformat_minor": 2
}
